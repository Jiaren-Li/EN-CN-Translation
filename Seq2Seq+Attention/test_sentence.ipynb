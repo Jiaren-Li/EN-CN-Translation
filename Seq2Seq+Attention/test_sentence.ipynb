{
 "cells": [
  {
   "cell_type": "code",
   "execution_count": 1,
   "id": "d2dcfca5-a209-4cb7-9c99-2554bb908760",
   "metadata": {},
   "outputs": [],
   "source": [
    "sentence_list=[]\n",
    "sentence_list.append('This model seems to work well on complex sentence')\n",
    "sentence_list.append('I wonder how to improve the performance of this model')\n",
    "sentence_list.append('I want to know how to improve the performance of this model')\n",
    "\n",
    "sentence_list.append('Miracles happen every day')\n",
    "\n",
    "sentence_list.append('Reading books is a good habit')\n",
    "\n",
    "sentence_list.append('I want to read books')\n",
    "sentence_list.append('Teachers can help students to enrich their knowledge')\n",
    "sentence_list.append('Look forward to your reply ')\n",
    "\n",
    "sentence_list.append('The progress of thee society is based on harmony')\n",
    "sentence_list.append('We should do our best to achieve our goal in life')\n",
    "\n",
    "sentence_list.append('All nations should do more to protect the environment ')\n"
   ]
  },
  {
   "cell_type": "code",
   "execution_count": 2,
   "id": "aa88e968-a3ef-432f-8f8d-5cf040043d50",
   "metadata": {},
   "outputs": [
    {
     "name": "stderr",
     "output_type": "stream",
     "text": [
      "100%|██████████| 11/11 [00:00<00:00, 29959.31it/s]\n"
     ]
    }
   ],
   "source": [
    "import tqdm\n",
    "from torchtext.data.utils import get_tokenizer#分词器\n",
    "test_en_try = []\n",
    "max_length=40\n",
    "tokenizer_en = get_tokenizer('basic_english')#按空格进行分割\n",
    "for sentence in tqdm.tqdm(sentence_list):\n",
    "    text= tokenizer_en(sentence.lower())\n",
    "    if len(text)>max_length:\n",
    "        text=text[0:max_length]    \n",
    "    test_en_try.append([\"BOS\"] + text + [\"EOS\"])#小写"
   ]
  },
  {
   "cell_type": "code",
   "execution_count": 3,
   "id": "14cac453-88e8-45bd-8555-3d421cf3c8e9",
   "metadata": {},
   "outputs": [
    {
     "name": "stderr",
     "output_type": "stream",
     "text": [
      "/usr/local/lib/python3.6/dist-packages/ipykernel_launcher.py:2: VisibleDeprecationWarning: Creating an ndarray from ragged nested sequences (which is a list-or-tuple of lists-or-tuples-or ndarrays with different lengths or shapes) is deprecated. If you meant to do this, you must specify 'dtype=object' when creating the ndarray\n",
      "  \n"
     ]
    }
   ],
   "source": [
    "import numpy as np\n",
    "test_en_try_save=np.array(test_en_try )\n",
    "np.save('test_en_try.npy',test_en_try_save)"
   ]
  },
  {
   "cell_type": "code",
   "execution_count": null,
   "id": "41b0bd71-d74c-4c8a-8dc5-49c43e76a69e",
   "metadata": {},
   "outputs": [],
   "source": [
    "\n",
    "\n",
    "\n",
    "\n",
    "\n",
    "\n",
    "\n",
    "\n"
   ]
  }
 ],
 "metadata": {
  "kernelspec": {
   "display_name": "Python 3.6.9 64-bit",
   "language": "python",
   "name": "python3"
  },
  "language_info": {
   "codemirror_mode": {
    "name": "ipython",
    "version": 3
   },
   "file_extension": ".py",
   "mimetype": "text/x-python",
   "name": "python",
   "nbconvert_exporter": "python",
   "pygments_lexer": "ipython3",
   "version": "3.6.9"
  },
  "vscode": {
   "interpreter": {
    "hash": "31f2aee4e71d21fbe5cf8b01ff0e069b9275f58929596ceb00d14d90e3e16cd6"
   }
  }
 },
 "nbformat": 4,
 "nbformat_minor": 5
}
